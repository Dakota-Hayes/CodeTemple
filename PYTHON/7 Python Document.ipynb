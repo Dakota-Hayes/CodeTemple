{
 "cells": [
  {
   "cell_type": "markdown",
   "metadata": {},
   "source": [
    "# Algorithms, Binary Search & Linked Lists"
   ]
  },
  {
   "cell_type": "markdown",
   "metadata": {},
   "source": [
    "## Tasks Today:\n",
    " \n",
    "1) <b>In-Place Algorithms</b> <br>\n",
    " &nbsp;&nbsp;&nbsp;&nbsp; a) Syntax <br>\n",
    " &nbsp;&nbsp;&nbsp;&nbsp; a) Out of Place Algorithm <br>\n",
    " &nbsp;&nbsp;&nbsp;&nbsp; b) In-Class Exercise #1 <br>\n",
    "2) <b>Two Pointers</b> <br>\n",
    "3) <b>Linked Lists</b> <br>\n",
    "4) <b>Merge Sort</b> <br>\n",
    " &nbsp;&nbsp;&nbsp;&nbsp; a) Video on Algorithms <br>\n",
    " &nbsp;&nbsp;&nbsp;&nbsp; b) How it Works <br>\n",
    "5) <b>Exercises</b> <br>\n",
    " &nbsp;&nbsp;&nbsp;&nbsp; a) Exercise #1 - Reverse a List in Place Using an In-Place Algorithm <br>\n",
    " &nbsp;&nbsp;&nbsp;&nbsp; b) Exercise #2 - Find Distinct Words <br>\n",
    " &nbsp;&nbsp;&nbsp;&nbsp; c) Exercise #3 - Write a program to implement a Linear Search Algorithm. <br>"
   ]
  },
  {
   "cell_type": "markdown",
   "metadata": {},
   "source": [
    "## In-Place Algorithms"
   ]
  },
  {
   "cell_type": "markdown",
   "metadata": {},
   "source": [
    "#### Syntax"
   ]
  },
  {
   "cell_type": "code",
   "execution_count": 48,
   "metadata": {
    "tags": []
   },
   "outputs": [
    {
     "name": "stdout",
     "output_type": "stream",
     "text": [
      "[1, 9, 5, 2, 2, 6, 3, 1, 6, 2, 2, 4, 8, 0]\n",
      "[5, 9, 1, 2, 2, 6, 3, 1, 6, 2, 2, 4, 8, 0]\n"
     ]
    }
   ],
   "source": [
    "def swap(a_list,x,y,z):\n",
    "    a_list[x],a_list[y],a_list[z] = a_list[z],a_list[y],a_list[x]\n",
    "    return a_list\n",
    "\n",
    "my_list = [1, 9, 5, 2, 2, 6, 3, 1, 6, 2, 2, 4, 8, 0]\n",
    "print(my_list)\n",
    "my_list = swap(my_list,2,1,0)\n",
    "print(my_list)\n"
   ]
  },
  {
   "cell_type": "markdown",
   "metadata": {},
   "source": [
    "#### Out of Place Algorithm"
   ]
  },
  {
   "cell_type": "code",
   "execution_count": 49,
   "metadata": {
    "tags": []
   },
   "outputs": [
    {
     "name": "stdout",
     "output_type": "stream",
     "text": [
      "[0, 8, 4, 2, 2, 6, 1, 3, 6, 2, 2, 5, 9, 1]\n",
      "[1, 9, 5, 2, 2, 6, 3, 1, 6, 2, 2, 4, 8, 0]\n"
     ]
    }
   ],
   "source": [
    "my_list = [1, 9, 5, 2, 2, 6, 3, 1, 6, 2, 2, 4, 8, 0]\n",
    "my_list_copy = my_list[::-1]\n",
    "print(my_list_copy)\n",
    "print(my_list)"
   ]
  },
  {
   "cell_type": "markdown",
   "metadata": {},
   "source": [
    "#### In-Class Exercise #1 <br>\n",
    "<p>Write a function that takes in four arguments (list, index1, index2, index3), and swaps those three positions in the list passed in.</p>"
   ]
  },
  {
   "cell_type": "code",
   "execution_count": 50,
   "metadata": {
    "tags": []
   },
   "outputs": [
    {
     "name": "stdout",
     "output_type": "stream",
     "text": [
      "[1, 9, 5, 2, 2, 6, 3, 1, 6, 2, 2, 4, 8, 0]\n",
      "[5, 9, 1, 2, 2, 6, 3, 1, 6, 2, 2, 4, 8, 0]\n"
     ]
    }
   ],
   "source": [
    "l_1 = [1, 9, 5, 2, 2, 6, 3, 1, 6, 2, 2, 4, 8, 0]\n",
    "\n",
    "def swapEm(l_,x,y,z):\n",
    "    l_[x],l_[y],l_[z] = l_[z],l_[y],l_[x]\n",
    "    return l_\n",
    "\n",
    "print(l_1)\n",
    "\n",
    "l_1 = swapEm(l_1,0,1,2)\n",
    "\n",
    "print(l_1)"
   ]
  },
  {
   "cell_type": "markdown",
   "metadata": {},
   "source": [
    "## Two Pointers"
   ]
  },
  {
   "cell_type": "markdown",
   "metadata": {},
   "source": [
    "#### Syntax"
   ]
  },
  {
   "cell_type": "code",
   "execution_count": 67,
   "metadata": {
    "tags": []
   },
   "outputs": [
    {
     "name": "stdout",
     "output_type": "stream",
     "text": [
      "[9, 8, 7, 6, 5, 4, 3, 2, 1]\n"
     ]
    }
   ],
   "source": [
    "def swapEz(a_list):\n",
    "    for i in range(len(a_list)):\n",
    "        if(i != len(a_list) - i - 1):\n",
    "            a_list[len(a_list) - i - 1], a_list[i] = a_list[i],a_list[len(a_list) - i - 1]\n",
    "        else:\n",
    "            break\n",
    "    return a_list\n",
    "\n",
    "\n",
    "my_list = swapEz(my_list)\n",
    "print(my_list)\n",
    "        "
   ]
  },
  {
   "cell_type": "markdown",
   "metadata": {},
   "source": [
    "#### Video of Algorithms <br>\n",
    "<p>Watch the video about algorithms.</p>\n",
    "\n",
    "https://www.youtube.com/watch?v=Q9HjeFD62Uk\n",
    "\n",
    "https://www.youtube.com/watch?v=kPRA0W1kECg\n",
    "\n",
    "https://www.youtube.com/watch?v=ZZuD6iUe3Pc"
   ]
  },
  {
   "cell_type": "markdown",
   "metadata": {},
   "source": [
    "# Sorting Algorithms"
   ]
  },
  {
   "cell_type": "markdown",
   "metadata": {},
   "source": [
    "#### Bubble Sort\n",
    "\n",
    "Worst Case: O(n^2) Time - O(1) Space"
   ]
  },
  {
   "cell_type": "code",
   "execution_count": 68,
   "metadata": {
    "tags": []
   },
   "outputs": [
    {
     "name": "stdout",
     "output_type": "stream",
     "text": [
      "[1, 9, 5, 2, 2, 6, 3, 1, 6, 2, 2, 4, 8, 0]\n",
      "[0, 1, 1, 2, 2, 2, 2, 3, 4, 5, 6, 6, 8, 9]\n"
     ]
    }
   ],
   "source": [
    "l_ = [1, 9, 5, 2, 2, 6, 3, 1, 6, 2, 2, 4, 8, 0]\n",
    "\n",
    "def bubbleSort(x):\n",
    "    sorted = False\n",
    "    print(x)\n",
    "    while sorted == False:\n",
    "        found = False\n",
    "        for i in range(len(x)):\n",
    "            if(i < len(x) -1):\n",
    "                if x[i] > x[i+1]:\n",
    "                    found = True\n",
    "                    x[i],x[i+1] = x[i+1],x[i]\n",
    "        if(found == False):\n",
    "            sorted = True\n",
    "    print(x)\n",
    "\n",
    "bubbleSort(l_)"
   ]
  },
  {
   "cell_type": "markdown",
   "metadata": {},
   "source": [
    "##### Insertion Sort\n",
    "\n",
    "Worst Case: O(n^2) time - O(1)space"
   ]
  },
  {
   "cell_type": "code",
   "execution_count": 69,
   "metadata": {
    "tags": []
   },
   "outputs": [
    {
     "name": "stdout",
     "output_type": "stream",
     "text": [
      "[1, 9, 5, 2, 2, 6, 3, 1, 6, 2, 2, 4, 8, 0]\n",
      "[0, 1, 1, 2, 2, 2, 2, 3, 4, 5, 6, 6, 8, 9]\n"
     ]
    }
   ],
   "source": [
    "l_ = [1, 9, 5, 2, 2, 6, 3, 1, 6, 2, 2, 4, 8, 0]\n",
    "print(l_)\n",
    "def insertSort(x,y):\n",
    "    if(y < len(x) - 1):\n",
    "        if x[y] > x[y+1]:\n",
    "            x[y],x[y+1] = x[y+1],x[y]\n",
    "            if(y == 0):\n",
    "                x = insertSort(x,y)\n",
    "            else:\n",
    "                x = insertSort(x,y-1)\n",
    "        else:\n",
    "            x = insertSort(x,y+1) \n",
    "    else:\n",
    "        return x\n",
    "    \n",
    "insertSort(l_,0)\n",
    "print(l_)"
   ]
  },
  {
   "cell_type": "markdown",
   "metadata": {},
   "source": [
    "## Merge Sort"
   ]
  },
  {
   "cell_type": "markdown",
   "metadata": {},
   "source": [
    "#### How it Works"
   ]
  },
  {
   "cell_type": "code",
   "execution_count": 70,
   "metadata": {
    "tags": []
   },
   "outputs": [
    {
     "name": "stdout",
     "output_type": "stream",
     "text": [
      "before [1, 9, 5, 2, 2, 6, 3, 1, 6, 2, 2, 4, 8, 0]\n",
      "final [0, 1, 1, 2, 2, 2, 2, 3, 4, 5, 6, 6, 8, 9]\n"
     ]
    }
   ],
   "source": [
    "l_ = [1,9,5,2,2,6,3,1,6,2,2,4,8,0]\n",
    "print(\"before\",l_)\n",
    "\n",
    "def swap2(x,i_1,i_2):\n",
    "    x[i_1],x[i_2] = x[i_2],x[i_1]\n",
    "    return x\n",
    "\n",
    "def mergeSort(x):\n",
    "    if(len(x) > 1):\n",
    "        y = []\n",
    "        y_length = int(round((len(x)/2),0))\n",
    "        for i in range(y_length):\n",
    "            y.append(x[i])\n",
    "        y = mergeSort(y)\n",
    "        z = []\n",
    "        z_length = len(x) - y_length\n",
    "        for i in range(z_length):\n",
    "            z.append(x[i + y_length])\n",
    "        z = mergeSort(z)\n",
    "        x = y + z\n",
    "        for i_1 in range(len(x)):\n",
    "            for i_2 in range(len(x)):\n",
    "                if x[i_1] <  x[i_2]:\n",
    "                    x = swap2(x,i_1,i_2)\n",
    "        return x\n",
    "    else:\n",
    "        return x\n",
    "\n",
    "l_ = mergeSort(l_)\n",
    "print(\"final\",l_)"
   ]
  },
  {
   "cell_type": "markdown",
   "metadata": {},
   "source": [
    "# Binary Search\n",
    "\n",
    "The Binary Search algorithm works by finding the number in the middle of a given array and comparing it to the target. Given that the array is sorted\n",
    "\n",
    "* The worst case run time for this algorithm is `O(log(n))`"
   ]
  },
  {
   "cell_type": "code",
   "execution_count": 71,
   "metadata": {},
   "outputs": [
    {
     "name": "stdout",
     "output_type": "stream",
     "text": [
      "before [1, 9, 5, 2, 2, 6, 3, 1, 6, 2, 2, 4, 8, 0]\n",
      "after [0, 1, 1, 2, 2, 2, 2, 3, 4, 5, 6, 6, 8, 9]\n"
     ]
    }
   ],
   "source": [
    "l_ = [1,9,5,2,2,6,3,1,6,2,2,4,8,0]\n",
    "print(\"before\",l_)\n",
    "\n",
    "def binarySort(x):\n",
    "    biggest_v = x[0]\n",
    "    biggest_i = 0\n",
    "    for i in range(len(x)):\n",
    "        if(biggest_v < x[i]):\n",
    "            biggest_v = x[i]\n",
    "            biggest_i = i\n",
    "    if len(x) > 1:\n",
    "        x.pop(biggest_i)\n",
    "        x = binarySort(x)\n",
    "    else:\n",
    "        x = []\n",
    "    x.append(biggest_v)\n",
    "    return x\n",
    "l_ = binarySort(l_)\n",
    "print(\"after\",l_)"
   ]
  },
  {
   "cell_type": "markdown",
   "metadata": {},
   "source": [
    "# Exercises"
   ]
  },
  {
   "cell_type": "markdown",
   "metadata": {},
   "source": [
    "### Exercise #1 <br>\n",
    "<p>Reverse the list below in-place using an in-place algorithm.<br>For extra credit: Reverse the strings at the same time.</p>"
   ]
  },
  {
   "cell_type": "code",
   "execution_count": 75,
   "metadata": {},
   "outputs": [
    {
     "name": "stdout",
     "output_type": "stream",
     "text": [
      "z []\n",
      "i_1 0 len(x) 5\n",
      "i_2 0 len(x[-i_1-1]) 1\n",
      "y . x[-i_1-1][-i_2-1] .\n",
      "i_1 1 len(x) 5\n",
      "i_2 0 len(x[-i_1-1]) 8\n",
      "y e x[-i_1-1][-i_2-1] e\n",
      "i_2 1 len(x[-i_1-1]) 8\n",
      "y ec x[-i_1-1][-i_2-1] c\n",
      "i_2 2 len(x[-i_1-1]) 8\n",
      "y ecn x[-i_1-1][-i_2-1] n\n",
      "i_2 3 len(x[-i_1-1]) 8\n",
      "y ecne x[-i_1-1][-i_2-1] e\n",
      "i_2 4 len(x[-i_1-1]) 8\n",
      "y ecnet x[-i_1-1][-i_2-1] t\n",
      "i_2 5 len(x[-i_1-1]) 8\n",
      "y ecnetn x[-i_1-1][-i_2-1] n\n",
      "i_2 6 len(x[-i_1-1]) 8\n",
      "y ecnetne x[-i_1-1][-i_2-1] e\n",
      "i_2 7 len(x[-i_1-1]) 8\n",
      "y ecnetnes x[-i_1-1][-i_2-1] s\n",
      "i_1 2 len(x) 5\n",
      "i_2 0 len(x[-i_1-1]) 1\n",
      "y a x[-i_1-1][-i_2-1] a\n",
      "i_1 3 len(x) 5\n",
      "i_2 0 len(x[-i_1-1]) 2\n",
      "y s x[-i_1-1][-i_2-1] s\n",
      "i_2 1 len(x[-i_1-1]) 2\n",
      "y si x[-i_1-1][-i_2-1] i\n",
      "i_1 4 len(x) 5\n",
      "i_2 0 len(x[-i_1-1]) 4\n",
      "y s x[-i_1-1][-i_2-1] s\n",
      "i_2 1 len(x[-i_1-1]) 4\n",
      "y si x[-i_1-1][-i_2-1] i\n",
      "i_2 2 len(x[-i_1-1]) 4\n",
      "y sih x[-i_1-1][-i_2-1] h\n",
      "i_2 3 len(x[-i_1-1]) 4\n",
      "y siht x[-i_1-1][-i_2-1] t\n",
      "['.', 'ecnetnes', 'a', 'si', 'siht']\n"
     ]
    }
   ],
   "source": [
    "words = ['this' , 'is', 'a', 'sentence', '.']\n",
    "\n",
    "def revThings(x):\n",
    "    z = []\n",
    "    print('z',z)\n",
    "    for i_1 in range(len(x)):\n",
    "        print(\"i_1\",i_1,\"len(x)\",len(x))\n",
    "        y = \"\"\n",
    "        for i_2 in range(len(x[-i_1-1])):\n",
    "            print(\"i_2\",i_2,\"len(x[-i_1-1])\",len(x[-i_1-1]))\n",
    "            y += x[-i_1-1][-i_2-1]\n",
    "            print(\"y\",y,\"x[-i_1-1][-i_2-1]\",x[-i_1-1][-i_2-1])\n",
    "            \n",
    "        z.append(y)\n",
    "    return z\n",
    "words = revThings(words)\n",
    "print(words)"
   ]
  },
  {
   "cell_type": "markdown",
   "metadata": {},
   "source": [
    "### Exercise #2 <br>\n",
    "<p>Create a function that counts how many distinct words are in the string below, then outputs a dictionary with the words as the key and the value as the amount of times that word appears in the string.<br>Should output:<br>{'a': 5,<br>\n",
    " 'abstract': 1,<br>\n",
    " 'an': 3,<br>\n",
    " 'array': 2, ... etc...</p>"
   ]
  },
  {
   "cell_type": "code",
   "execution_count": 81,
   "metadata": {},
   "outputs": [
    {
     "name": "stdout",
     "output_type": "stream",
     "text": [
      "{'In': 1, 'computing': 1, 'a': 4, 'hash': 4, 'table': 2, 'map': 2, 'is': 1, 'data': 2, 'structure': 2, 'which': 2, 'implements': 1, 'an': 3, 'associative': 1, 'array': 2, 'abstract': 1, 'type': 1, 'that': 1, 'can': 2, 'keys': 1, 'to': 2, 'values': 1, 'A': 1, 'uses': 1, 'function': 1, 'compute': 1, 'index': 1, 'into': 1, 'of': 1, 'buckets': 1, 'or': 1, 'slots': 1, 'from': 1, 'the': 1, 'desired': 1, 'value': 1, 'be': 1, 'found': 1}\n"
     ]
    }
   ],
   "source": [
    "import re\n",
    "\n",
    "a_text = 'In computing, a hash table hash map is a data structure which implements an associative array abstract data type, a structure that can map keys to values. A hash table uses a hash function to compute an index into an array of buckets or slots from which the desired value can be found'\n",
    "\n",
    "pattern = re.compile(\"\\w+\")\n",
    "\n",
    "found = pattern.findall(a_text)\n",
    "a_text_dict = {}\n",
    "\n",
    "for i_1 in found:\n",
    "    count = 0\n",
    "    for i_2 in found:\n",
    "        if i_1 == i_2:\n",
    "            count += 1\n",
    "    a_text_dict[i_1] = count\n",
    "\n",
    "print(a_text_dict)"
   ]
  },
  {
   "cell_type": "markdown",
   "metadata": {},
   "source": [
    "## Exercise #3\n",
    "\n",
    "Write a program to implement a Linear Search Algorithm. Also in a comment, write the Time Complexity of the following algorithm.\n",
    "\n",
    "#### Hint: Linear Searching will require searching a list for a given number. "
   ]
  },
  {
   "cell_type": "code",
   "execution_count": 96,
   "metadata": {},
   "outputs": [
    {
     "name": "stdout",
     "output_type": "stream",
     "text": [
      "Please provide a number: 57\n",
      "Looking through array:  [1, 9, 5, 7, 2, 6, 3, 2, 4, 8, 0, 5, 7, 4, 5, 4, 5, 4, 5, 556, 5, 68, 78, 95, 1, 6, 5444, 9, 9, 6, 4, 777, 9, 9, 666, 33, 148, 65, 987, 25, 41, 54, 23, 574, 98, 61, 544, 254, 25, 14, 236, 36, 45, 12, 44, 11, 63, 548, 6, 5, 4, 5, 5, 7, 7, 77, 98, 44, 11, 55]\n",
      "57  does not exist in array!\n",
      "0:00:00\n"
     ]
    }
   ],
   "source": [
    "import datetime\n",
    "l_ = [1,9,5,7,2,6,3,2,4,8,0,5,7,4,5,4,5,4,5,556,5,68,78,95,1,6,5444,9,9,6,4,777,9,9,666,33,148,65,987,25,41,54,23,574,98,61,544,254,25,14,236,36,45,12,44,11,63,548,6,5,4,5,5,7,7,77,98,44,11,55]\n",
    "\n",
    "def linearSearch(x,y):\n",
    "    start = datetime.datetime.now()\n",
    "    found = False\n",
    "    print(\"Looking through array: \",x)\n",
    "    for i in range(len(x)):\n",
    "        if y == x[i]:\n",
    "            print(\"found\",y,\"at position\",i)\n",
    "            found = True\n",
    "    if found == False:\n",
    "        print(y,\" does not exist in array!\")\n",
    "    end = datetime.datetime.now()\n",
    "    time_elapsed = end - start\n",
    "    print(time_elapsed)      \n",
    "linearSearch(l_,int(input(\"Please provide a number: \")))"
   ]
  }
 ],
 "metadata": {
  "kernelspec": {
   "display_name": "Python 3 (ipykernel)",
   "language": "python",
   "name": "python3"
  },
  "language_info": {
   "codemirror_mode": {
    "name": "ipython",
    "version": 3
   },
   "file_extension": ".py",
   "mimetype": "text/x-python",
   "name": "python",
   "nbconvert_exporter": "python",
   "pygments_lexer": "ipython3",
   "version": "3.11.4"
  }
 },
 "nbformat": 4,
 "nbformat_minor": 4
}
